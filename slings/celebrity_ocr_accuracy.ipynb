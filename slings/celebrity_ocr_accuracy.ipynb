{
 "cells": [
  {
   "cell_type": "code",
   "execution_count": 1,
   "metadata": {},
   "outputs": [],
   "source": [
    "# measures ocr accuracy of zipped files"
   ]
  },
  {
   "cell_type": "code",
   "execution_count": 1,
   "metadata": {},
   "outputs": [],
   "source": [
    "# get wordlists\n",
    "with open('/Users/e/Documents/LiteraryLab/word lists/oed_wordlist.txt') as f:\n",
    "    f = f.read().lower()\n",
    "    f = set(f.split('\\n'))"
   ]
  },
  {
   "cell_type": "code",
   "execution_count": 2,
   "metadata": {},
   "outputs": [],
   "source": [
    "# compare with nltk\n",
    "\n",
    "with open('/Users/e/nltk_data/corpora/words/en') as g:\n",
    "    g = g.read().lower()\n",
    "    g = set(g.split('\\n'))"
   ]
  },
  {
   "cell_type": "code",
   "execution_count": 11,
   "metadata": {},
   "outputs": [],
   "source": [
    "nltk_oed = list((set(g) & set(f)))\n",
    "# element 0 is a space, so removing\n",
    "nltk_oed.remove('')\n",
    "nltk_oed = set(nltk_oed)"
   ]
  },
  {
   "cell_type": "code",
   "execution_count": 12,
   "metadata": {},
   "outputs": [],
   "source": [
    "# get filenames from tar archive\n",
    "def get_members(tar_path):\n",
    "    import tarfile\n",
    "    tf = tarfile.open(tar_path)\n",
    "    tf_members = tf.getmembers()\n",
    "    valid = []\n",
    "    for i in tf_members:\n",
    "        if i.isfile():\n",
    "            valid.append(i)\n",
    "    return(tf, valid)"
   ]
  },
  {
   "cell_type": "code",
   "execution_count": 14,
   "metadata": {},
   "outputs": [],
   "source": [
    "def ocr_accuracy(text, wordlist = nltk_oed):\n",
    "    from collections import Counter\n",
    "    import os\n",
    "    import re\n",
    "    \n",
    "    wc = 0\n",
    "    d = {}\n",
    "    f = text.lower()\n",
    "    f = re.findall(\"[A-Z]{2,}(?![a-z])|[A-Z][a-z]+(?=[A-Z])|[\\'\\w\\-]+\", f)\n",
    "    c = Counter(f)\n",
    "    full_count = sum(c.values())\n",
    "    valid = list(set(f) & wordlist)\n",
    "    for el in set(c.elements()):\n",
    "        if el in valid:\n",
    "            wc += int(c[el])\n",
    "#             d[el] = c[el] # uncomment to make a valid dtm\n",
    "    d['_wordlist'] = 'nltk_oed'\n",
    "    d['_ocr_accuracy'] = round(wc / full_count, 2)\n",
    "    d['_word_count'] = full_count\n",
    "    d['_valid_words'] = wc\n",
    "    return(d)"
   ]
  },
  {
   "cell_type": "code",
   "execution_count": 15,
   "metadata": {},
   "outputs": [],
   "source": [
    "def get_text(tf, filenames, wordlist):\n",
    "    from bs4 import BeautifulSoup\n",
    "    import pandas as pd\n",
    "    \n",
    "    output_list = []\n",
    "    counter = 0\n",
    "    \n",
    "    for i, file in enumerate(filenames):\n",
    "        with tf.extractfile(file) as f:\n",
    "            output = {}\n",
    "            fn = str(file).split('\\'')[1]\n",
    "            output['_fn'] = fn\n",
    "            if f is None:\n",
    "                continue\n",
    "            xml = f.read()\n",
    "            # get metadata\n",
    "            soup = BeautifulSoup(xml, 'lxml')\n",
    "            meta_tags = ['doctitle', 'arttyp', 'pmtitle', 'pcdta', 'pmq', 'word-count', 'auth']\n",
    "            for tag in meta_tags:\n",
    "                t = soup.find(tag)\n",
    "                if t is None:\n",
    "                    output['_' + tag] = 'NULL'\n",
    "                    continue\n",
    "                output['_' + t.name] = t.text\n",
    "            # get ocr accuracy\n",
    "            text = soup.text\n",
    "            ocr = ocr_accuracy(text)\n",
    "            # attach everything to dictionary\n",
    "            output.update(ocr)\n",
    "            output_list.append(output)\n",
    "        print('\\r',round(i/len(filenames)*100, 1),'%',end='')\n",
    "            \n",
    "            \n",
    "    return(output_list)"
   ]
  },
  {
   "cell_type": "code",
   "execution_count": 16,
   "metadata": {},
   "outputs": [],
   "source": [
    "def news_ocr(file):\n",
    "    import os\n",
    "    tf, valid = get_members(file)\n",
    "    ld = get_text(tf, valid, wordlist = nltk_oed)\n",
    "    for d in ld:\n",
    "        d['_archive'] = os.path.split(file)[1]\n",
    "    return(ld)"
   ]
  },
  {
   "cell_type": "code",
   "execution_count": 22,
   "metadata": {},
   "outputs": [],
   "source": [
    "# path = '/Users/e/Documents/LiteraryLab/celebrity/xml_samples/bfexml_113712_1886_20110502.tgz'"
   ]
  },
  {
   "cell_type": "code",
   "execution_count": 23,
   "metadata": {},
   "outputs": [],
   "source": [
    "# a = news_ocr(path)"
   ]
  },
  {
   "cell_type": "markdown",
   "metadata": {},
   "source": [
    "slingshot -sling celebrity_ocr_accuracy.ipynb -stone news_ocr -path /Users/e/Documents/LiteraryLab/celebrity/xml_samples -ext tgz -savedir results_slingshot/celebrity_ocr_accuracy__news_ocr -parallel 16"
   ]
  },
  {
   "cell_type": "code",
   "execution_count": 21,
   "metadata": {},
   "outputs": [
    {
     "data": {
      "text/plain": [
       "{'_fn': './113712/1886/2360332/319663502.xml',\n",
       " '_doctitle': 'LYING IN STATE.',\n",
       " '_arttyp': 'article',\n",
       " '_pmtitle': 'Los Angeles Times (1886-1922)',\n",
       " '_pcdta': 'Dec 31, 1886',\n",
       " '_pmq': 'Los Angeles, Calif.',\n",
       " '_word-count': '590',\n",
       " '_auth': 'Telegraph to The Times',\n",
       " '_wordlist': 'nltk_oed',\n",
       " '_ocr_accuracy': 0.7,\n",
       " '_word_count': 762,\n",
       " '_valid_words': 536,\n",
       " '_archive': 'bfexml_113712_1886_20110502.tgz'}"
      ]
     },
     "execution_count": 21,
     "metadata": {},
     "output_type": "execute_result"
    }
   ],
   "source": [
    "# a[0]"
   ]
  },
  {
   "cell_type": "markdown",
   "metadata": {},
   "source": [
    "# Postprocessing"
   ]
  },
  {
   "cell_type": "code",
   "execution_count": 25,
   "metadata": {},
   "outputs": [],
   "source": [
    "import sys\n",
    "sys.path.insert(0,'/Users/e/code/mpi-slingshot/')"
   ]
  },
  {
   "cell_type": "code",
   "execution_count": 28,
   "metadata": {},
   "outputs": [
    {
     "name": "stdout",
     "output_type": "stream",
     "text": [
      ">> streaming: results_slingshot/celebrity_ocr_accuracy__news_ocr/cache/results.rank=0000.jsonl ...\n",
      ">> streaming: results_slingshot/celebrity_ocr_accuracy__news_ocr/cache/results.rank=0001.jsonl ...\n",
      ">> streaming: results_slingshot/celebrity_ocr_accuracy__news_ocr/cache/results.rank=0002.jsonl ...\n",
      ">> streaming: results_slingshot/celebrity_ocr_accuracy__news_ocr/cache/results.rank=0003.jsonl ...\n",
      ">> streaming: results_slingshot/celebrity_ocr_accuracy__news_ocr/cache/results.rank=0004.jsonl ...\n",
      ">> streaming: results_slingshot/celebrity_ocr_accuracy__news_ocr/cache/results.rank=0005.jsonl ...\n",
      ">> streaming: results_slingshot/celebrity_ocr_accuracy__news_ocr/cache/results.rank=0006.jsonl ...\n",
      ">> streaming: results_slingshot/celebrity_ocr_accuracy__news_ocr/cache/results.rank=0007.jsonl ...\n",
      ">> streaming: results_slingshot/celebrity_ocr_accuracy__news_ocr/cache/results.rank=0008.jsonl ...\n",
      ">> streaming: results_slingshot/celebrity_ocr_accuracy__news_ocr/cache/results.rank=0009.jsonl ...\n",
      ">> streaming: results_slingshot/celebrity_ocr_accuracy__news_ocr/cache/results.rank=0010.jsonl ...\n",
      ">> streaming: results_slingshot/celebrity_ocr_accuracy__news_ocr/cache/results.rank=0011.jsonl ...\n",
      ">> streaming: results_slingshot/celebrity_ocr_accuracy__news_ocr/cache/results.rank=0012.jsonl ...\n",
      ">> streaming: results_slingshot/celebrity_ocr_accuracy__news_ocr/cache/results.rank=0013.jsonl ...\n",
      ">> streaming: results_slingshot/celebrity_ocr_accuracy__news_ocr/cache/results.rank=0014.jsonl ...\n",
      ">> streaming: results_slingshot/celebrity_ocr_accuracy__news_ocr/cache/results.rank=0015.jsonl ...\n"
     ]
    }
   ],
   "source": [
    "l = []\n",
    "from mpi_slingshot import stream_results\n",
    "for path, data in stream_results('results_slingshot/celebrity_ocr_accuracy__news_ocr/cache/'):\n",
    "    for d in data:\n",
    "        l.append(d)"
   ]
  },
  {
   "cell_type": "code",
   "execution_count": 30,
   "metadata": {},
   "outputs": [],
   "source": [
    "import pandas as pd\n",
    "df = pd.DataFrame(l)"
   ]
  },
  {
   "cell_type": "code",
   "execution_count": 36,
   "metadata": {},
   "outputs": [
    {
     "data": {
      "text/plain": [
       "(11617, 13)"
      ]
     },
     "execution_count": 36,
     "metadata": {},
     "output_type": "execute_result"
    }
   ],
   "source": [
    "df.shape"
   ]
  },
  {
   "cell_type": "code",
   "execution_count": 43,
   "metadata": {},
   "outputs": [
    {
     "data": {
      "text/plain": [
       "(1, 13)"
      ]
     },
     "execution_count": 43,
     "metadata": {},
     "output_type": "execute_result"
    }
   ],
   "source": [
    "df.query('_ocr_accuracy >= 0.9').shape"
   ]
  },
  {
   "cell_type": "code",
   "execution_count": null,
   "metadata": {},
   "outputs": [],
   "source": []
  }
 ],
 "metadata": {
  "kernelspec": {
   "display_name": "Python 3",
   "language": "python",
   "name": "python3"
  },
  "language_info": {
   "codemirror_mode": {
    "name": "ipython",
    "version": 3
   },
   "file_extension": ".py",
   "mimetype": "text/x-python",
   "name": "python",
   "nbconvert_exporter": "python",
   "pygments_lexer": "ipython3",
   "version": "3.7.3"
  }
 },
 "nbformat": 4,
 "nbformat_minor": 2
}
