{
 "cells": [
  {
   "cell_type": "markdown",
   "metadata": {},
   "source": [
    "# Testing slingshot_direct"
   ]
  },
  {
   "cell_type": "code",
   "execution_count": 1,
   "metadata": {},
   "outputs": [],
   "source": [
    "import mpi_slingshot as sl,random"
   ]
  },
  {
   "cell_type": "code",
   "execution_count": 16,
   "metadata": {},
   "outputs": [],
   "source": [
    "def parse(obj):\n",
    "    import random,json,time\n",
    "    obj=json.loads(obj)\n",
    "    num=obj['num']\n",
    "#     time.sleep(random.randint(1,10))\n",
    "    return {'num':num, 'num_rand':random.random() * num}"
   ]
  },
  {
   "cell_type": "code",
   "execution_count": 17,
   "metadata": {},
   "outputs": [],
   "source": [
    "objects = [{'num':random.randint(1,1000)} for n in range(100)]\n",
    "savedir = '_data_'"
   ]
  },
  {
   "cell_type": "code",
   "execution_count": 18,
   "metadata": {},
   "outputs": [
    {
     "name": "stdout",
     "output_type": "stream",
     "text": [
      "slingshot -code _data_/func.py -func parse -pathlist _data_/input.jsonl -savedir _data_ -resume -progress\n"
     ]
    }
   ],
   "source": [
    "cmd=sl.prepare_slingshot(parse, objects, savedir,progress=True)\n",
    "print(cmd)"
   ]
  },
  {
   "cell_type": "code",
   "execution_count": 19,
   "metadata": {},
   "outputs": [
    {
     "name": "stdout",
     "output_type": "stream",
     "text": [
      "\n",
      ">> [Slingshot] starting at 10/28/2020 15:05:-08...\n",
      ">> [Slingshot] executing: slingshot -code _data_/func.py -func parse -pathlist /home/rj416/code/slingshot/tests/_data_/input.jsonl -savedir _data_ -parallel 4 -progress\n",
      ">> SLINGSHOT COMMAND:\n",
      "slingshot -code _data_/func.py -func parse -pathlist /home/rj416/code/slingshot/tests/_data_/input.jsonl -savedir _data_ -parallel 4 -progress\n",
      "\n",
      ">> EXECUTING COMMAND:\n",
      "mpirun  -np 4 python -c \"from mpi_slingshot import slingshot; slingshot(path_sling='_data_/func.py', stone_name='parse', sling_kwargs={}, path_source='/home/rj416/code/slingshot/tests/_data_/input.jsonl', path_ext='None', path_key='', path_prefix='', path_suffix='', limit=None, oneshot=False,results_dir='_data_', cache_results=True, save_results=True, txt_maxcols=25000, num_runs=1, llp_corpus='', llp_method='',llp_pass_text=False, progress_bar=True, savecsv='', overwrite=False, resume=True, parallel=4, llp_pass_path='path')\"  | tee /dev/tty > _data_/output.txt\n",
      "\n",
      "\n",
      ">> [Slingshot] already finished 103 paths\n",
      ">> [Slingshot] # of paths: 82\n",
      "\n",
      ">> [Slingshot] initializing MPI with size 4 and rank 0\n",
      ">> [Slingshot]: 82 paths divided into 4 segments\n",
      "Slingshot-001:   0%|                                                         | 0/21 [00:00<?, ?it/s]\n",
      ">> [Slingshot] already finished 103 paths\n",
      ">> [Slingshot] # of paths: 82\n",
      ">> [Slingshot] initializing MPI with size 4 and rank 1\n",
      "\n",
      "Slingshot-002:   0%|                                                         | 0/21 [00:00<?, ?it/s]\u001b[A\n",
      ">> [Slingshot] already finished 103 paths\n",
      ">> [Slingshot] # of paths: 82\n",
      ">> [Slingshot] initializing MPI with size 4 and rank 3\n",
      "\n",
      "\n",
      "\n",
      "\n",
      ">> [Slingshot] already finished 103 paths\n",
      ">> [Slingshot] # of paths: 82\n",
      ">> [Slingshot] initializing MPI with size 4 and rank 2\n",
      "\n",
      "\n",
      "Slingshot-004: 100%|█████████████████████████████████████████████| 20/20 [00:00<00:00, 16269.60it/s]\u001b[A\u001b[A\u001b[A\n",
      "\n",
      "\n",
      "_data_/cache/results.rank=0000.jsonl: 100%|██████████| 48/48 [00:00<00:00, 78797.10it/s]\n",
      "_data_/cache/results.rank=0001.jsonl: 100%|██████████| 47/47 [00:00<00:00, 168345.25it/s]\n",
      "_data_/cache/results.rank=0002.jsonl: 100%|██████████| 44/44 [00:00<00:00, 169934.97it/s]\n",
      "_data_/cache/results.rank=0003.jsonl: 100%|██████████| 46/46 [00:00<00:00, 169392.44it/s]\n",
      "_data_/cache/results.rank=0000.jsonl: 100%|██████████| 48/48 [00:00<00:00, 134847.01it/s]\n",
      "_data_/cache/results.rank=0001.jsonl: 100%|██████████| 47/47 [00:00<00:00, 136897.42it/s]\n",
      "_data_/cache/results.rank=0002.jsonl: 100%|██████████| 44/44 [00:00<00:00, 132104.06it/s]\n",
      "_data_/cache/results.rank=0003.jsonl: 100%|██████████| 46/46 [00:00<00:00, 134921.67it/s]\n",
      "\n",
      ">> SLINGSHOT: Finished parsing in 0.030358 seconds.\n",
      ">> save_txt: found 2 keys in 0s\n",
      "['num', 'num_rand'] ...\n",
      ">> saved: _data_/results.txt\n",
      ">> save_txt: saved in 0s\n",
      ">> SLINGSHOT: Finished everything in 0.055024 seconds!\n"
     ]
    }
   ],
   "source": [
    "!slingshot -code _data_/func.py -func parse -pathlist _data_/input.jsonl -savedir _data_ -resume -progress"
   ]
  },
  {
   "cell_type": "code",
   "execution_count": 20,
   "metadata": {},
   "outputs": [
    {
     "name": "stdout",
     "output_type": "stream",
     "text": [
      "\n",
      ">> [Slingshot] already finished 185 paths\n",
      ">> [Slingshot] # of paths: 0\n",
      "\n",
      ">> [Slingshot] initializing MPI with size 1 and rank 0\n",
      ">> [Slingshot]: 0 paths divided into 1 segments\n",
      "Slingshot-001: 0it [00:00, ?it/s]\n",
      ">> SLINGSHOT: Finished parsing in 0.011935 seconds.\n",
      "_data_/cache/results.rank=0000.jsonl: 100%|██| 48/48 [00:00<00:00, 67220.90it/s]\n",
      "_data_/cache/results.rank=0001.jsonl: 100%|█| 47/47 [00:00<00:00, 150367.88it/s]\n",
      "_data_/cache/results.rank=0002.jsonl: 100%|█| 44/44 [00:00<00:00, 154953.30it/s]\n",
      "_data_/cache/results.rank=0003.jsonl: 100%|█| 46/46 [00:00<00:00, 157371.93it/s]\n",
      ">> save_txt: found 2 keys in 0s\n",
      "['num_rand', 'num'] ...\n",
      "_data_/cache/results.rank=0000.jsonl: 100%|█| 48/48 [00:00<00:00, 132976.61it/s]\n",
      "_data_/cache/results.rank=0001.jsonl: 100%|█| 47/47 [00:00<00:00, 127511.18it/s]\n",
      "_data_/cache/results.rank=0002.jsonl: 100%|█| 44/44 [00:00<00:00, 125373.22it/s]\n",
      "_data_/cache/results.rank=0003.jsonl: 100%|█| 46/46 [00:00<00:00, 125447.32it/s]\n",
      ">> saved: _data_/results.txt\n",
      ">> save_txt: saved in 0s\n",
      ">> SLINGSHOT: Finished everything in 0.03053 seconds!\n"
     ]
    }
   ],
   "source": [
    "!python -c \"from mpi_slingshot import slingshot; slingshot(path_sling='_data_/func.py', stone_name='parse', sling_kwargs={}, path_source='/home/rj416/code/slingshot/tests/_data_/input.jsonl', path_ext='None', path_key='', path_prefix='', path_suffix='', limit=None, oneshot=False,results_dir='_data_', cache_results=True, save_results=True, txt_maxcols=25000, num_runs=1, llp_corpus='', llp_method='',llp_pass_text=False, progress_bar=True, savecsv='', overwrite=False, resume=True, parallel=4, llp_pass_path='path')\""
   ]
  },
  {
   "cell_type": "code",
   "execution_count": null,
   "metadata": {},
   "outputs": [],
   "source": []
  }
 ],
 "metadata": {
  "kernelspec": {
   "display_name": "Python 3",
   "language": "python",
   "name": "python3"
  },
  "language_info": {
   "codemirror_mode": {
    "name": "ipython",
    "version": 3
   },
   "file_extension": ".py",
   "mimetype": "text/x-python",
   "name": "python",
   "nbconvert_exporter": "python",
   "pygments_lexer": "ipython3",
   "version": "3.6.1"
  }
 },
 "nbformat": 4,
 "nbformat_minor": 4
}
